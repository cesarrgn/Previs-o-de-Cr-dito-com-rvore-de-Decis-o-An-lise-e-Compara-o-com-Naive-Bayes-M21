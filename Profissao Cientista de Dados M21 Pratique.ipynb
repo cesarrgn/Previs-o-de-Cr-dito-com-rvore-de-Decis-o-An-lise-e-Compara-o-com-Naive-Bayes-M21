{
 "cells": [
  {
   "cell_type": "markdown",
   "metadata": {
    "id": "5mEckgFd-NN6"
   },
   "source": [
    "# **MÓDULO 21 - Projeto de Credit Score - Árvore de Decisão**\n"
   ]
  },
  {
   "cell_type": "markdown",
   "metadata": {
    "id": "0glG_vNy-UJb"
   },
   "source": [
    "No módulo 17, vocês realizaram a primeira etapa do projeto de crédito de vocês. Então fizeram o tratamendo dos dados, balancearam as classes, transformaram as variáveis categóricas e separam base de treino e teste. Já no módulo 14, aplicaram a base já tratada o algoritmo de Naive Bayes, onde avaliaram os resultados das previsões. Nesse módulo aplicaremos a nossa base o algoritmo da árvore de decisão."
   ]
  },
  {
   "cell_type": "code",
   "execution_count": null,
   "metadata": {
    "id": "JJKbQFtKyfip"
   },
   "outputs": [],
   "source": [
    "import pandas as pd\n",
    "import numpy as np\n",
    "import seaborn as sns\n",
    "from sklearn.metrics import confusion_matrix\n",
    "import matplotlib.pyplot as plt\n",
    "from sklearn.tree import plot_tree\n",
    "import matplotlib.pyplot as plt\n",
    "from sklearn.tree import DecisionTreeClassifier\n",
    "from sklearn.metrics import accuracy_score, classification_report"
   ]
  },
  {
   "cell_type": "markdown",
   "metadata": {
    "id": "piJZ3_sx-uvS"
   },
   "source": [
    "# 1) Comece carregando as bases de treino (X e y) e teste (X e y).\n",
    "Verifique se o número de linhas condiz, se as variáveis estão corretas sendo apenas a de score para y e as demais nas bases de X e por último, se Y está balanceada no teste."
   ]
  },
  {
   "cell_type": "code",
   "execution_count": 7,
   "metadata": {
    "id": "dBjhq9xY-xoQ"
   },
   "outputs": [
    {
     "name": "stdout",
     "output_type": "stream",
     "text": [
      "Dimensão de X_train: (117950, 10)\n",
      "Dimensão de X_test: (24927, 10)\n",
      "Dimensão de y_train: (117950,)\n",
      "Dimensão de y_test: (24927,)\n",
      "\n",
      "Balanceamento de y_test:\n",
      "Churn\n",
      "0.0    0.788262\n",
      "1.0    0.211738\n",
      "Name: proportion, dtype: float64\n"
     ]
    }
   ],
   "source": [
    "import pandas as pd\n",
    "import numpy as np\n",
    "import seaborn as sns\n",
    "from sklearn.tree import DecisionTreeClassifier, plot_tree\n",
    "from sklearn.metrics import accuracy_score, classification_report, confusion_matrix\n",
    "import matplotlib.pyplot as plt\n",
    "\n",
    "# Caminho dos arquivos\n",
    "base_path = r\"C:\\Users\\DELL\\Documents\\ebac\\portifolios\"\n",
    "\n",
    "X_train = pd.read_csv(f\"{base_path}\\\\X_train.csv\")\n",
    "X_test = pd.read_csv(f\"{base_path}\\\\X_test.csv\")\n",
    "y_train = pd.read_csv(f\"{base_path}\\\\y_train.csv\").squeeze()  # Converte para Series\n",
    "y_test = pd.read_csv(f\"{base_path}\\\\y_test.csv\").squeeze()    # Converte para Series\n",
    "\n",
    "\n",
    "# Verificando as dimensões\n",
    "print(\"Dimensão de X_train:\", X_train.shape)\n",
    "print(\"Dimensão de X_test:\", X_test.shape)\n",
    "print(\"Dimensão de y_train:\", y_train.shape)\n",
    "print(\"Dimensão de y_test:\", y_test.shape)\n",
    "\n",
    "# Verificando o balanceamento de classes em y_test\n",
    "print(\"\\nBalanceamento de y_test:\")\n",
    "print(y_test.value_counts(normalize=True))\n"
   ]
  },
  {
   "cell_type": "markdown",
   "metadata": {
    "id": "yx1x-6-z-yGY"
   },
   "source": [
    "# 2) Explique com suas palavras, qual o passo a passo para a aplicação do algoritmo da árvore de decisão, não esqueça de citar a etapa de avaliação do modelo e também como podemos melhorar nosso modelo."
   ]
  },
  {
   "cell_type": "markdown",
   "metadata": {
    "id": "goU3eJz64vWl"
   },
   "source": [
    "Passos para aplicar o algoritmo da árvore de decisão:\n",
    "\n",
    "Pré-processamento dos dados:\n",
    "\n",
    "Certificar-se de que os dados estão devidamente preparados (tratamento de missing, codificação de variáveis categóricas, balanceamento de classes, etc.).\n",
    "Separar os dados em conjuntos de treino e teste.\n",
    "\n",
    "Definição do modelo:\n",
    "\n",
    "Importar a classe DecisionTreeClassifier da biblioteca sklearn.\n",
    "Configurar o critério de divisão (ex.: Gini ou Entropia) e outros hiperparâmetros.\n",
    "\n",
    "Treinamento do modelo:\n",
    "\n",
    "Ajustar o modelo aos dados de treino (fit()).\n",
    "\n",
    "Avaliação do modelo:\n",
    "\n",
    "Prever as classes no conjunto de teste com o método predict().\n",
    "Calcular métricas como acurácia, matriz de confusão, precisão, recall e F1-score.\n",
    "\n",
    "Melhorias no modelo:\n",
    "\n",
    "Realizar ajuste de hiperparâmetros como profundidade máxima (max_depth), número mínimo de amostras por nó (min_samples_split), etc.\n",
    "Utilizar validação cruzada para avaliar a robustez do modelo.\n"
   ]
  },
  {
   "cell_type": "markdown",
   "metadata": {
    "id": "x-wtN8Y24dcg"
   },
   "source": [
    "# 3) Aplique o algortimo da árvore de decisão aos dados de treinamento, utilizando critério de Gini e random state = 0.\n",
    "Traga a acurácia para o modedlo com os dados de treino."
   ]
  },
  {
   "cell_type": "code",
   "execution_count": 8,
   "metadata": {
    "id": "TTAOXnxS6p1C"
   },
   "outputs": [
    {
     "name": "stdout",
     "output_type": "stream",
     "text": [
      "Acurácia na base de treino: 0.9997\n"
     ]
    }
   ],
   "source": [
    "# Treinando o modelo de Árvore de Decisão\n",
    "dt_model = DecisionTreeClassifier(criterion=\"gini\", random_state=0)\n",
    "dt_model.fit(X_train, y_train)\n",
    "\n",
    "# Avaliação na base de treino\n",
    "y_train_pred = dt_model.predict(X_train)\n",
    "train_accuracy = accuracy_score(y_train, y_train_pred)\n",
    "\n",
    "print(f\"Acurácia na base de treino: {train_accuracy:.4f}\")\n",
    "\n"
   ]
  },
  {
   "cell_type": "markdown",
   "metadata": {
    "id": "ajytPG6G75jJ"
   },
   "source": [
    "# 4) Aplique o modelo aos dados de teste e realize a avaliação dos resultados. Não se esqueça de avaliar com as suas palavras e comparar o desempenho da base treino com a teste."
   ]
  },
  {
   "cell_type": "code",
   "execution_count": 9,
   "metadata": {
    "id": "rDikimnX8EU2"
   },
   "outputs": [
    {
     "name": "stdout",
     "output_type": "stream",
     "text": [
      "Acurácia na base de teste: 0.7900\n"
     ]
    },
    {
     "data": {
      "image/png": "[encoded data removed]",
      "text/plain": [
       "<Figure size 640x480 with 2 Axes>"
      ]
     },
     "metadata": {},
     "output_type": "display_data"
    },
    {
     "name": "stdout",
     "output_type": "stream",
     "text": [
      "\n",
      "Relatório de Classificação - Teste:\n",
      "              precision    recall  f1-score   support\n",
      "\n",
      "         0.0       0.88      0.85      0.86     19649\n",
      "         1.0       0.50      0.56      0.53      5278\n",
      "\n",
      "    accuracy                           0.79     24927\n",
      "   macro avg       0.69      0.71      0.70     24927\n",
      "weighted avg       0.80      0.79      0.79     24927\n",
      "\n"
     ]
    }
   ],
   "source": [
    "# Predição na base de teste\n",
    "y_test_pred = dt_model.predict(X_test)\n",
    "\n",
    "# Avaliação dos resultados\n",
    "test_accuracy = accuracy_score(y_test, y_test_pred)\n",
    "print(f\"Acurácia na base de teste: {test_accuracy:.4f}\")\n",
    "\n",
    "# Matriz de confusão\n",
    "conf_matrix = confusion_matrix(y_test, y_test_pred)\n",
    "sns.heatmap(conf_matrix, annot=True, fmt=\"d\", cmap=\"Blues\")\n",
    "plt.title(\"Matriz de Confusão - Teste\")\n",
    "plt.xlabel(\"Previsões\")\n",
    "plt.ylabel(\"Valores Reais\")\n",
    "plt.show()\n",
    "\n",
    "# Relatório de classificação\n",
    "print(\"\\nRelatório de Classificação - Teste:\")\n",
    "print(classification_report(y_test, y_test_pred))\n",
    "\n"
   ]
  },
  {
   "cell_type": "markdown",
   "metadata": {},
   "source": [
    "Ao aplicar o modelo da árvore de decisão na base de teste, posso observar que, embora a acurácia no conjunto de treino tenha sido muito alta, a acurácia no conjunto de teste pode ser ligeiramente inferior. Isso é esperado, pois o modelo tende a se ajustar melhor aos dados de treinamento, e uma boa acurácia no treino nem sempre garante uma boa generalização nos dados de teste.\n",
    "\n",
    "Se o desempenho no teste for significativamente inferior ao do treino, isso pode indicar que o modelo está sofrendo de overfitting, ou seja, ele se ajustou tão bem aos dados de treino que não consegue generalizar bem para dados novos. Nesse caso, uma estratégia seria tentar ajustar o modelo, seja alterando os parâmetros da árvore de decisão (como a profundidade da árvore ou o critério de divisão), ou até considerando técnicas como validação cruzada para avaliar melhor a performance.\n",
    "\n",
    "A comparação entre o desempenho do modelo nos conjuntos de treino e teste é importante para garantir que o modelo é capaz de generalizar bem, e não apenas memorizar os dados de treino."
   ]
  },
  {
   "cell_type": "markdown",
   "metadata": {
    "id": "GIAfA8zl8--k"
   },
   "source": [
    "# 5) Plote a árvore de decisão.\n",
    "É possível fazer uma avaliação visual? Qual a profundidade da árvore?"
   ]
  },
  {
   "cell_type": "code",
   "execution_count": 3,
   "metadata": {},
   "outputs": [
    {
     "name": "stdout",
     "output_type": "stream",
     "text": [
      "Acurácia do modelo no conjunto de treino: 0.9997\n"
     ]
    }
   ],
   "source": [
    "import pandas as pd\n",
    "from sklearn.tree import DecisionTreeClassifier, export_graphviz\n",
    "from sklearn.metrics import accuracy_score\n",
    "import os\n",
    "\n",
    "# Passo 1: Carregar os dados de treino\n",
    "base_path = r'C:\\Users\\DELL\\Documents\\ebac\\portifolios'  # Caminho correto onde os dados estão armazenados\n",
    "X_train = pd.read_csv(f\"{base_path}\\\\X_train.csv\")  # Carregar as variáveis independentes de treino\n",
    "y_train = pd.read_csv(f\"{base_path}\\\\y_train.csv\").squeeze()  # Carregar a variável dependente de treino e converter para Series\n",
    "\n",
    "# Passo 2: Criar e treinar o modelo\n",
    "dt_model = DecisionTreeClassifier(criterion='gini', random_state=0)\n",
    "dt_model.fit(X_train, y_train)\n",
    "\n",
    "# Passo 3: Exportar a árvore de decisão para um arquivo .dot\n",
    "export_graphviz(dt_model, out_file=\"tree.dot\", feature_names=X_train.columns, class_names=[\"0\", \"1\"], filled=True)\n",
    "\n",
    "# Passo 4: Converter o arquivo .dot para imagem (Certifique-se de ter o Graphviz instalado)\n",
    "os.system('dot -Tpng tree.dot -o tree.png')\n",
    "\n",
    "# Passo 5: Exibir a acurácia do modelo nos dados de treino\n",
    "y_train_pred = dt_model.predict(X_train)\n",
    "train_accuracy = accuracy_score(y_train, y_train_pred)\n",
    "print(f\"Acurácia do modelo no conjunto de treino: {train_accuracy:.4f}\")\n",
    "\n",
    "\n",
    "\n"
   ]
  },
  {
   "cell_type": "code",
   "execution_count": 9,
   "metadata": {},
   "outputs": [
    {
     "name": "stdout",
     "output_type": "stream",
     "text": [
      "Acurácia do modelo no conjunto de teste: 0.7900\n"
     ]
    }
   ],
   "source": [
    "# Carregar os dados de teste\n",
    "X_test = pd.read_csv(f\"{base_path}\\\\X_test.csv\")\n",
    "y_test = pd.read_csv(f\"{base_path}\\\\y_test.csv\").squeeze()\n",
    "\n",
    "# Fazer previsões com o conjunto de teste\n",
    "y_test_pred = dt_model.predict(X_test)\n",
    "\n",
    "# Calcular a acurácia no conjunto de teste\n",
    "test_accuracy = accuracy_score(y_test, y_test_pred)\n",
    "print(f\"Acurácia do modelo no conjunto de teste: {test_accuracy:.4f}\")\n"
   ]
  },
  {
   "cell_type": "code",
   "execution_count": 11,
   "metadata": {},
   "outputs": [
    {
     "data": {
      "image/png": "[encoded data removed]",
      "text/plain": [
       "<Figure size 600x600 with 2 Axes>"
      ]
     },
     "metadata": {},
     "output_type": "display_data"
    }
   ],
   "source": [
    "# Importação das bibliotecas necessárias\n",
    "import seaborn as sns\n",
    "import matplotlib.pyplot as plt\n",
    "from sklearn.metrics import confusion_matrix\n",
    "\n",
    "# Gerar a matriz de confusão (usey_pred_dt ou y_pred_nb, dependendo de qual modelo você está avaliando)\n",
    "y_test_pred = dt_model.predict(X_test)  # ou nb_model.predict(X_test) se for Naive Bayes\n",
    "\n",
    "cm = confusion_matrix(y_test, y_test_pred)\n",
    "\n",
    "# Plotar a matriz de confusão\n",
    "plt.figure(figsize=(6, 6))\n",
    "sns.heatmap(cm, annot=True, fmt='d', cmap='Blues', xticklabels=[\"Classe 0\", \"Classe 1\"], yticklabels=[\"Classe 0\", \"Classe 1\"])\n",
    "plt.xlabel('Previsão')\n",
    "plt.ylabel('Real')\n",
    "plt.title('Matriz de Confusão')\n",
    "plt.show()\n",
    "\n"
   ]
  },
  {
   "cell_type": "code",
   "execution_count": 12,
   "metadata": {},
   "outputs": [
    {
     "name": "stdout",
     "output_type": "stream",
     "text": [
      "Profundidade da árvore: 39\n"
     ]
    }
   ],
   "source": [
    "print(f\"Profundidade da árvore: {dt_model.get_depth()}\")\n"
   ]
  },
  {
   "cell_type": "markdown",
   "metadata": {
    "id": "YuaEvREG9bz9"
   },
   "source": [
    "# 6) Identifique as 2 principais features do modelo.\n"
   ]
  },
  {
   "cell_type": "code",
   "execution_count": 4,
   "metadata": {
    "id": "9W6B2kmV9jYx"
   },
   "outputs": [
    {
     "name": "stdout",
     "output_type": "stream",
     "text": [
      "Top 2 Features mais importantes:\n",
      "        Feature  Importance\n",
      "4  Qtd_Produtos    0.267402\n",
      "1         Idade    0.195928\n"
     ]
    }
   ],
   "source": [
    "# Obter a importância das features\n",
    "importances = dt_model.feature_importances_\n",
    "\n",
    "# Criar um DataFrame com as features e suas importâncias\n",
    "feature_importance_df = pd.DataFrame({\n",
    "    'Feature': X_train.columns,\n",
    "    'Importance': importances\n",
    "})\n",
    "\n",
    "# Ordenar as features pela importância\n",
    "feature_importance_df = feature_importance_df.sort_values(by='Importance', ascending=False)\n",
    "\n",
    "# Exibir as duas principais features\n",
    "top_2_features = feature_importance_df.head(2)\n",
    "print(\"Top 2 Features mais importantes:\")\n",
    "print(top_2_features)\n",
    "\n"
   ]
  },
  {
   "cell_type": "markdown",
   "metadata": {
    "id": "RM27EgfT9zfT"
   },
   "source": [
    "# 7) Rode um modelo de árvore de decisão apenas com as 2 principais features encontradas. E avalie os resultados. Para você o desempenho da árvore está melhor que o modelo anterior? Justifique."
   ]
  },
  {
   "cell_type": "code",
   "execution_count": 5,
   "metadata": {
    "id": "A_1IN8UN9zCS"
   },
   "outputs": [
    {
     "name": "stdout",
     "output_type": "stream",
     "text": [
      "Acurácia do modelo com as 2 principais features no conjunto de treino: 0.8888\n"
     ]
    }
   ],
   "source": [
    "# Selecionar as duas principais features\n",
    "X_train_top2 = X_train[top_2_features['Feature']]\n",
    "\n",
    "# Treinar o modelo com as duas principais features\n",
    "dt_model_top2 = DecisionTreeClassifier(criterion='gini', random_state=0)\n",
    "dt_model_top2.fit(X_train_top2, y_train)\n",
    "\n",
    "# Avaliar a acurácia no conjunto de treino\n",
    "train_accuracy_top2 = dt_model_top2.score(X_train_top2, y_train)\n",
    "print(f\"Acurácia do modelo com as 2 principais features no conjunto de treino: {train_accuracy_top2:.4f}\")\n",
    "\n"
   ]
  },
  {
   "cell_type": "markdown",
   "metadata": {},
   "source": [
    "Após rodar o modelo de árvore de decisão apenas com as 2 principais features encontradas, percebi que o desempenho do modelo ficou um pouco abaixo do desempenho do modelo anterior, que utilizava todas as variáveis. Isso é esperado, pois, ao reduzir o número de variáveis de entrada, o modelo perde informações importantes que poderiam contribuir para uma previsão mais precisa.\n",
    "\n",
    "Apesar disso, ao focar nas duas variáveis mais relevantes, conseguimos simplificar o modelo, o que pode ser útil em cenários onde a interpretabilidade é mais importante ou quando há limitações computacionais. No entanto, é importante avaliar a acurácia, a precisão e o recall para determinar se a redução de variáveis comprometeu significativamente a capacidade de previsão.\n",
    "\n",
    "Em minha análise, o modelo com as 2 features principais não superou o modelo completo, mas a redução de variáveis pode ser vantajosa em termos de eficiência e simplicidade, dependendo do contexto do problema."
   ]
  },
  {
   "cell_type": "markdown",
   "metadata": {
    "id": "nnHjqAsr_MRe"
   },
   "source": [
    "# 8) Compare os resultados obtidos com a árvore de decisão com os resultados do Naive Bayes (Exercício módulo 20). Qual parece ter se adequado melhor aos dados e tem melhores resultados de avaliação? Justifique."
   ]
  },
  {
   "cell_type": "code",
   "execution_count": 8,
   "metadata": {
    "id": "NTanFag4CCGb"
   },
   "outputs": [
    {
     "name": "stdout",
     "output_type": "stream",
     "text": [
      "Acurácia do modelo de Árvore de Decisão no conjunto de teste: 0.7900\n",
      "Acurácia do modelo de Naive Bayes no conjunto de teste: 0.5553\n",
      "A Árvore de Decisão obteve melhores resultados.\n"
     ]
    }
   ],
   "source": [
    "import pandas as pd\n",
    "\n",
    "# Caminho para os arquivos (substitua com o caminho real dos seus arquivos)\n",
    "base_path = \"C:\\\\Users\\\\DELL\\\\Documents\\\\ebac\\\\portifolios\"\n",
    "\n",
    "# Carregar as bases de dados de treino e teste\n",
    "X_train = pd.read_csv(f\"{base_path}\\\\X_train.csv\")\n",
    "y_train = pd.read_csv(f\"{base_path}\\\\y_train.csv\").squeeze()  # Converte para Series\n",
    "X_test = pd.read_csv(f\"{base_path}\\\\X_test.csv\")\n",
    "y_test = pd.read_csv(f\"{base_path}\\\\y_test.csv\").squeeze()    # Converte para Series\n",
    "\n",
    "from sklearn.tree import DecisionTreeClassifier\n",
    "from sklearn.naive_bayes import GaussianNB\n",
    "from sklearn.metrics import accuracy_score\n",
    "\n",
    "# 1. Treinar o modelo de Árvore de Decisão\n",
    "dt_model = DecisionTreeClassifier(criterion='gini', random_state=0)\n",
    "dt_model.fit(X_train, y_train)\n",
    "\n",
    "# 2. Fazer previsões com a Árvore de Decisão no conjunto de teste\n",
    "y_pred_dt = dt_model.predict(X_test)\n",
    "\n",
    "# 3. Avaliar o modelo de Árvore de Decisão\n",
    "dt_accuracy = accuracy_score(y_test, y_pred_dt)\n",
    "print(f\"Acurácia do modelo de Árvore de Decisão no conjunto de teste: {dt_accuracy:.4f}\")\n",
    "\n",
    "# 4. Treinar o modelo de Naive Bayes\n",
    "nb_model = GaussianNB()\n",
    "nb_model.fit(X_train, y_train)\n",
    "\n",
    "# 5. Fazer previsões com o modelo de Naive Bayes no conjunto de teste\n",
    "y_pred_nb = nb_model.predict(X_test)\n",
    "\n",
    "# 6. Avaliar o modelo de Naive Bayes\n",
    "nb_accuracy = accuracy_score(y_test, y_pred_nb)\n",
    "print(f\"Acurácia do modelo de Naive Bayes no conjunto de teste: {nb_accuracy:.4f}\")\n",
    "\n",
    "# Comparar os dois modelos\n",
    "if dt_accuracy > nb_accuracy:\n",
    "    print(\"A Árvore de Decisão obteve melhores resultados.\")\n",
    "else:\n",
    "    print(\"O Naive Bayes obteve melhores resultados.\")\n",
    "\n",
    "\n"
   ]
  },
  {
   "cell_type": "markdown",
   "metadata": {},
   "source": [
    "Consideração do item 8:\n",
    "\n",
    "Após comparar os resultados dos dois modelos (Árvore de Decisão e Naive Bayes), podemos verificar qual modelo se adapta melhor aos dados e fornece os melhores resultados.\n",
    "\n",
    "Se a Árvore de Decisão obtiver melhor desempenho, pode ser porque ela consegue capturar melhor as relações não lineares e interações complexas entre as variáveis.\n",
    "\n",
    "Se o Naive Bayes for superior, isso pode indicar que o modelo de Naive Bayes é mais robusto quando as suposições de distribuição das variáveis são atendidas, ou seja, quando as features são independentes entre si, o que é uma suposição do Naive Bayes.\n",
    "\n",
    "Com isso, você podemos concluir qual modelo é mais adequado para a previsão de Credit Score, dependendo do desempenho de cada um."
   ]
  },
  {
   "cell_type": "code",
   "execution_count": null,
   "metadata": {},
   "outputs": [],
   "source": []
  }
 ],
 "metadata": {
  "colab": {
   "provenance": []
  },
  "kernelspec": {
   "display_name": "Python 3 (ipykernel)",
   "language": "python",
   "name": "python3"
  },
  "language_info": {
   "codemirror_mode": {
    "name": "ipython",
    "version": 3
   },
   "file_extension": ".py",
   "mimetype": "text/x-python",
   "name": "python",
   "nbconvert_exporter": "python",
   "pygments_lexer": "ipython3",
   "version": "3.12.4"
  }
 },
 "nbformat": 4,
 "nbformat_minor": 4
}
